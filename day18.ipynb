{
 "cells": [
  {
   "cell_type": "markdown",
   "metadata": {
    "id": "OzgeqHEvW1aB"
   },
   "source": [
    "# 作業: RNN 可以做什麼？"
   ]
  },
  {
   "cell_type": "markdown",
   "metadata": {
    "id": "Y9hsWc7TXDbU"
   },
   "source": [
    "## [作業目標]\n",
    "瞭解目前 RNN 的應用領域\n",
    "\n",
    "\n"
   ]
  },
  {
   "cell_type": "markdown",
   "metadata": {
    "id": "AU8gNF_nWjYJ"
   },
   "source": [
    "## [作業重點]\n",
    "查詢 RNN 的應用，瞭解 RNN 可以做些什麼事，瞭解一下涉及的領域應用背景\n",
    "\n",
    "Ans:RNN 可對於序列型的資料建模並作相關的任務"
   ]
  },
  {
   "cell_type": "markdown",
   "metadata": {
    "id": "QPYgcakvJzMk"
   },
   "source": [
    "瞭解三大深度學習網路的差異後，在課程內容提到的的下列應用：\n",
    "\n",
    "1. 正負電影評價識別\n",
    "2. 真假新聞的識別。\n",
    "3. 語言翻譯\n",
    "4. 文章生成\n",
    "5. 聊天機器人\n",
    "6. 股價預測\n",
    "\n",
    "請學員網路查查除了有沒有其他更有用、有趣的 RNN 應用?\n",
    "\n",
    "Ans:用 RNN 來當作 seq2seq model 的 encoder 與 decoder，去解NLP的相關任務，像是 Question Answering 等。\n"
   ]
  }
 ],
 "metadata": {
  "colab": {
   "authorship_tag": "ABX9TyN02J5+/xLCdmLrp4ygurq9",
   "name": "作業_RNN_applications.ipynb",
   "provenance": []
  },
  "kernelspec": {
   "display_name": "Python 3",
   "language": "python",
   "name": "python3"
  },
  "language_info": {
   "codemirror_mode": {
    "name": "ipython",
    "version": 3
   },
   "file_extension": ".py",
   "mimetype": "text/x-python",
   "name": "python",
   "nbconvert_exporter": "python",
   "pygments_lexer": "ipython3",
   "version": "3.6.6"
  }
 },
 "nbformat": 4,
 "nbformat_minor": 2
}
